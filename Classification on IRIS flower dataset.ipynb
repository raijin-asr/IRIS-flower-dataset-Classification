{
 "cells": [
  {
   "cell_type": "code",
   "execution_count": 1,
   "id": "9e94ad44",
   "metadata": {
    "_cell_guid": "b1076dfc-b9ad-4769-8c92-a6c4dae69d19",
    "_uuid": "8f2839f25d086af736a60e9eeb907d3b93b6e0e5",
    "execution": {
     "iopub.execute_input": "2025-02-02T09:01:01.176006Z",
     "iopub.status.busy": "2025-02-02T09:01:01.175630Z",
     "iopub.status.idle": "2025-02-02T09:01:02.108711Z",
     "shell.execute_reply": "2025-02-02T09:01:02.107387Z"
    },
    "papermill": {
     "duration": 0.940887,
     "end_time": "2025-02-02T09:01:02.110512",
     "exception": false,
     "start_time": "2025-02-02T09:01:01.169625",
     "status": "completed"
    },
    "tags": []
   },
   "outputs": [
    {
     "name": "stdout",
     "output_type": "stream",
     "text": [
      "/kaggle/input/iris-flower-dataset/IRIS.csv\n",
      "/kaggle/input/welcome-to-nepal-data-challenge-kaggle-engagemen/sample_submission.csv\n",
      "/kaggle/input/welcome-to-nepal-data-challenge-kaggle-engagemen/test_updated.csv\n",
      "/kaggle/input/welcome-to-nepal-data-challenge-kaggle-engagemen/train.csv\n",
      "/kaggle/input/welcome-to-nepal-data-challenge-kaggle-engagemen/metaData.csv\n"
     ]
    }
   ],
   "source": [
    "# This Python 3 environment comes with many helpful analytics libraries installed\n",
    "# It is defined by the kaggle/python Docker image: https://github.com/kaggle/docker-python\n",
    "# For example, here's several helpful packages to load\n",
    "\n",
    "import numpy as np # linear algebra\n",
    "import pandas as pd # data processing, CSV file I/O (e.g. pd.read_csv)\n",
    "\n",
    "# Input data files are available in the read-only \"../input/\" directory\n",
    "# For example, running this (by clicking run or pressing Shift+Enter) will list all files under the input directory\n",
    "\n",
    "import os\n",
    "for dirname, _, filenames in os.walk('/kaggle/input'):\n",
    "    for filename in filenames:\n",
    "        print(os.path.join(dirname, filename))\n",
    "\n",
    "# You can write up to 20GB to the current directory (/kaggle/working/) that gets preserved as output when you create a version using \"Save & Run All\" \n",
    "# You can also write temporary files to /kaggle/temp/, but they won't be saved outside of the current session"
   ]
  },
  {
   "cell_type": "code",
   "execution_count": 2,
   "id": "282edd31",
   "metadata": {
    "execution": {
     "iopub.execute_input": "2025-02-02T09:01:02.121449Z",
     "iopub.status.busy": "2025-02-02T09:01:02.120953Z",
     "iopub.status.idle": "2025-02-02T09:01:04.497795Z",
     "shell.execute_reply": "2025-02-02T09:01:04.496581Z"
    },
    "papermill": {
     "duration": 2.384457,
     "end_time": "2025-02-02T09:01:04.499642",
     "exception": false,
     "start_time": "2025-02-02T09:01:02.115185",
     "status": "completed"
    },
    "tags": []
   },
   "outputs": [],
   "source": [
    "import numpy as np\n",
    "import pandas as pd\n",
    "import matplotlib.pyplot as plt\n",
    "import seaborn as sns\n",
    "\n",
    "from sklearn.model_selection import train_test_split, cross_val_score\n",
    "from sklearn.preprocessing import StandardScaler\n",
    "from sklearn.impute import SimpleImputer\n",
    "from sklearn.pipeline import Pipeline\n",
    "from sklearn.compose import ColumnTransformer\n",
    "from sklearn.neighbors import KNeighborsClassifier\n",
    "from sklearn.ensemble import RandomForestClassifier\n",
    "from sklearn.svm import SVC\n",
    "from sklearn.linear_model import LogisticRegression\n",
    "from sklearn.metrics import accuracy_score\n",
    "\n",
    "%matplotlib inline\n",
    "import warnings\n",
    "warnings.filterwarnings(\"ignore\")"
   ]
  },
  {
   "cell_type": "code",
   "execution_count": 3,
   "id": "1e3ec31b",
   "metadata": {
    "execution": {
     "iopub.execute_input": "2025-02-02T09:01:04.509694Z",
     "iopub.status.busy": "2025-02-02T09:01:04.509171Z",
     "iopub.status.idle": "2025-02-02T09:01:04.523989Z",
     "shell.execute_reply": "2025-02-02T09:01:04.523141Z"
    },
    "papermill": {
     "duration": 0.021558,
     "end_time": "2025-02-02T09:01:04.525679",
     "exception": false,
     "start_time": "2025-02-02T09:01:04.504121",
     "status": "completed"
    },
    "tags": []
   },
   "outputs": [],
   "source": [
    "# Assuming the Iris dataset is available within the competition environment\n",
    "data = pd.read_csv(\"/kaggle/input/iris-flower-dataset/IRIS.csv\")"
   ]
  },
  {
   "cell_type": "code",
   "execution_count": 4,
   "id": "8a059d95",
   "metadata": {
    "execution": {
     "iopub.execute_input": "2025-02-02T09:01:04.535446Z",
     "iopub.status.busy": "2025-02-02T09:01:04.535129Z",
     "iopub.status.idle": "2025-02-02T09:01:04.558599Z",
     "shell.execute_reply": "2025-02-02T09:01:04.557588Z"
    },
    "papermill": {
     "duration": 0.03028,
     "end_time": "2025-02-02T09:01:04.560347",
     "exception": false,
     "start_time": "2025-02-02T09:01:04.530067",
     "status": "completed"
    },
    "tags": []
   },
   "outputs": [
    {
     "data": {
      "text/html": [
       "<div>\n",
       "<style scoped>\n",
       "    .dataframe tbody tr th:only-of-type {\n",
       "        vertical-align: middle;\n",
       "    }\n",
       "\n",
       "    .dataframe tbody tr th {\n",
       "        vertical-align: top;\n",
       "    }\n",
       "\n",
       "    .dataframe thead th {\n",
       "        text-align: right;\n",
       "    }\n",
       "</style>\n",
       "<table border=\"1\" class=\"dataframe\">\n",
       "  <thead>\n",
       "    <tr style=\"text-align: right;\">\n",
       "      <th></th>\n",
       "      <th>sepal_length</th>\n",
       "      <th>sepal_width</th>\n",
       "      <th>petal_length</th>\n",
       "      <th>petal_width</th>\n",
       "      <th>species</th>\n",
       "    </tr>\n",
       "  </thead>\n",
       "  <tbody>\n",
       "    <tr>\n",
       "      <th>0</th>\n",
       "      <td>5.1</td>\n",
       "      <td>3.5</td>\n",
       "      <td>1.4</td>\n",
       "      <td>0.2</td>\n",
       "      <td>Iris-setosa</td>\n",
       "    </tr>\n",
       "    <tr>\n",
       "      <th>1</th>\n",
       "      <td>4.9</td>\n",
       "      <td>3.0</td>\n",
       "      <td>1.4</td>\n",
       "      <td>0.2</td>\n",
       "      <td>Iris-setosa</td>\n",
       "    </tr>\n",
       "    <tr>\n",
       "      <th>2</th>\n",
       "      <td>4.7</td>\n",
       "      <td>3.2</td>\n",
       "      <td>1.3</td>\n",
       "      <td>0.2</td>\n",
       "      <td>Iris-setosa</td>\n",
       "    </tr>\n",
       "    <tr>\n",
       "      <th>3</th>\n",
       "      <td>4.6</td>\n",
       "      <td>3.1</td>\n",
       "      <td>1.5</td>\n",
       "      <td>0.2</td>\n",
       "      <td>Iris-setosa</td>\n",
       "    </tr>\n",
       "    <tr>\n",
       "      <th>4</th>\n",
       "      <td>5.0</td>\n",
       "      <td>3.6</td>\n",
       "      <td>1.4</td>\n",
       "      <td>0.2</td>\n",
       "      <td>Iris-setosa</td>\n",
       "    </tr>\n",
       "  </tbody>\n",
       "</table>\n",
       "</div>"
      ],
      "text/plain": [
       "   sepal_length  sepal_width  petal_length  petal_width      species\n",
       "0           5.1          3.5           1.4          0.2  Iris-setosa\n",
       "1           4.9          3.0           1.4          0.2  Iris-setosa\n",
       "2           4.7          3.2           1.3          0.2  Iris-setosa\n",
       "3           4.6          3.1           1.5          0.2  Iris-setosa\n",
       "4           5.0          3.6           1.4          0.2  Iris-setosa"
      ]
     },
     "execution_count": 4,
     "metadata": {},
     "output_type": "execute_result"
    }
   ],
   "source": [
    "data.head()"
   ]
  },
  {
   "cell_type": "code",
   "execution_count": 5,
   "id": "ce0bfb24",
   "metadata": {
    "execution": {
     "iopub.execute_input": "2025-02-02T09:01:04.570573Z",
     "iopub.status.busy": "2025-02-02T09:01:04.570250Z",
     "iopub.status.idle": "2025-02-02T09:01:04.575139Z",
     "shell.execute_reply": "2025-02-02T09:01:04.574247Z"
    },
    "papermill": {
     "duration": 0.011698,
     "end_time": "2025-02-02T09:01:04.576642",
     "exception": false,
     "start_time": "2025-02-02T09:01:04.564944",
     "status": "completed"
    },
    "tags": []
   },
   "outputs": [],
   "source": [
    "data['species'] = data['species'].str.replace('Iris-', '') "
   ]
  },
  {
   "cell_type": "code",
   "execution_count": 6,
   "id": "33f2862b",
   "metadata": {
    "execution": {
     "iopub.execute_input": "2025-02-02T09:01:04.586968Z",
     "iopub.status.busy": "2025-02-02T09:01:04.586579Z",
     "iopub.status.idle": "2025-02-02T09:01:04.606288Z",
     "shell.execute_reply": "2025-02-02T09:01:04.605354Z"
    },
    "papermill": {
     "duration": 0.026653,
     "end_time": "2025-02-02T09:01:04.607892",
     "exception": false,
     "start_time": "2025-02-02T09:01:04.581239",
     "status": "completed"
    },
    "tags": []
   },
   "outputs": [
    {
     "data": {
      "text/html": [
       "<div>\n",
       "<style scoped>\n",
       "    .dataframe tbody tr th:only-of-type {\n",
       "        vertical-align: middle;\n",
       "    }\n",
       "\n",
       "    .dataframe tbody tr th {\n",
       "        vertical-align: top;\n",
       "    }\n",
       "\n",
       "    .dataframe thead th {\n",
       "        text-align: right;\n",
       "    }\n",
       "</style>\n",
       "<table border=\"1\" class=\"dataframe\">\n",
       "  <thead>\n",
       "    <tr style=\"text-align: right;\">\n",
       "      <th></th>\n",
       "      <th>sepal_length</th>\n",
       "      <th>sepal_width</th>\n",
       "      <th>petal_length</th>\n",
       "      <th>petal_width</th>\n",
       "      <th>species</th>\n",
       "    </tr>\n",
       "  </thead>\n",
       "  <tbody>\n",
       "    <tr>\n",
       "      <th>73</th>\n",
       "      <td>6.1</td>\n",
       "      <td>2.8</td>\n",
       "      <td>4.7</td>\n",
       "      <td>1.2</td>\n",
       "      <td>versicolor</td>\n",
       "    </tr>\n",
       "    <tr>\n",
       "      <th>18</th>\n",
       "      <td>5.7</td>\n",
       "      <td>3.8</td>\n",
       "      <td>1.7</td>\n",
       "      <td>0.3</td>\n",
       "      <td>setosa</td>\n",
       "    </tr>\n",
       "    <tr>\n",
       "      <th>118</th>\n",
       "      <td>7.7</td>\n",
       "      <td>2.6</td>\n",
       "      <td>6.9</td>\n",
       "      <td>2.3</td>\n",
       "      <td>virginica</td>\n",
       "    </tr>\n",
       "    <tr>\n",
       "      <th>78</th>\n",
       "      <td>6.0</td>\n",
       "      <td>2.9</td>\n",
       "      <td>4.5</td>\n",
       "      <td>1.5</td>\n",
       "      <td>versicolor</td>\n",
       "    </tr>\n",
       "    <tr>\n",
       "      <th>76</th>\n",
       "      <td>6.8</td>\n",
       "      <td>2.8</td>\n",
       "      <td>4.8</td>\n",
       "      <td>1.4</td>\n",
       "      <td>versicolor</td>\n",
       "    </tr>\n",
       "  </tbody>\n",
       "</table>\n",
       "</div>"
      ],
      "text/plain": [
       "     sepal_length  sepal_width  petal_length  petal_width     species\n",
       "73            6.1          2.8           4.7          1.2  versicolor\n",
       "18            5.7          3.8           1.7          0.3      setosa\n",
       "118           7.7          2.6           6.9          2.3   virginica\n",
       "78            6.0          2.9           4.5          1.5  versicolor\n",
       "76            6.8          2.8           4.8          1.4  versicolor"
      ]
     },
     "execution_count": 6,
     "metadata": {},
     "output_type": "execute_result"
    }
   ],
   "source": [
    "# Shuffle the data for balanced class distribution\n",
    "data = data.sample(frac=1, random_state=42)\n",
    "data.head()"
   ]
  },
  {
   "cell_type": "code",
   "execution_count": 7,
   "id": "2063aed5",
   "metadata": {
    "execution": {
     "iopub.execute_input": "2025-02-02T09:01:04.618390Z",
     "iopub.status.busy": "2025-02-02T09:01:04.618054Z",
     "iopub.status.idle": "2025-02-02T09:01:04.639120Z",
     "shell.execute_reply": "2025-02-02T09:01:04.638058Z"
    },
    "papermill": {
     "duration": 0.028281,
     "end_time": "2025-02-02T09:01:04.640823",
     "exception": false,
     "start_time": "2025-02-02T09:01:04.612542",
     "status": "completed"
    },
    "tags": []
   },
   "outputs": [
    {
     "name": "stdout",
     "output_type": "stream",
     "text": [
      "<class 'pandas.core.frame.DataFrame'>\n",
      "Index: 150 entries, 73 to 102\n",
      "Data columns (total 5 columns):\n",
      " #   Column        Non-Null Count  Dtype  \n",
      "---  ------        --------------  -----  \n",
      " 0   sepal_length  150 non-null    float64\n",
      " 1   sepal_width   150 non-null    float64\n",
      " 2   petal_length  150 non-null    float64\n",
      " 3   petal_width   150 non-null    float64\n",
      " 4   species       150 non-null    object \n",
      "dtypes: float64(4), object(1)\n",
      "memory usage: 7.0+ KB\n",
      "None\n"
     ]
    }
   ],
   "source": [
    "# Explore data types and missing values (if any)\n",
    "print(data.info())"
   ]
  },
  {
   "cell_type": "code",
   "execution_count": 8,
   "id": "357b3d8f",
   "metadata": {
    "execution": {
     "iopub.execute_input": "2025-02-02T09:01:04.651394Z",
     "iopub.status.busy": "2025-02-02T09:01:04.651070Z",
     "iopub.status.idle": "2025-02-02T09:01:04.670076Z",
     "shell.execute_reply": "2025-02-02T09:01:04.668858Z"
    },
    "papermill": {
     "duration": 0.026598,
     "end_time": "2025-02-02T09:01:04.672076",
     "exception": false,
     "start_time": "2025-02-02T09:01:04.645478",
     "status": "completed"
    },
    "tags": []
   },
   "outputs": [
    {
     "name": "stdout",
     "output_type": "stream",
     "text": [
      "       sepal_length  sepal_width  petal_length  petal_width\n",
      "count    150.000000   150.000000    150.000000   150.000000\n",
      "mean       5.843333     3.054000      3.758667     1.198667\n",
      "std        0.828066     0.433594      1.764420     0.763161\n",
      "min        4.300000     2.000000      1.000000     0.100000\n",
      "25%        5.100000     2.800000      1.600000     0.300000\n",
      "50%        5.800000     3.000000      4.350000     1.300000\n",
      "75%        6.400000     3.300000      5.100000     1.800000\n",
      "max        7.900000     4.400000      6.900000     2.500000\n"
     ]
    }
   ],
   "source": [
    "# Descriptive statistics\n",
    "print(data.describe())"
   ]
  },
  {
   "cell_type": "code",
   "execution_count": 9,
   "id": "3b61780d",
   "metadata": {
    "execution": {
     "iopub.execute_input": "2025-02-02T09:01:04.682964Z",
     "iopub.status.busy": "2025-02-02T09:01:04.682555Z",
     "iopub.status.idle": "2025-02-02T09:01:05.905041Z",
     "shell.execute_reply": "2025-02-02T09:01:05.903860Z"
    },
    "papermill": {
     "duration": 1.229504,
     "end_time": "2025-02-02T09:01:05.906546",
     "exception": false,
     "start_time": "2025-02-02T09:01:04.677042",
     "status": "completed"
    },
    "tags": []
   },
   "outputs": [
    {
     "data": {
      "text/plain": [
       "<Figure size 1500x1000 with 0 Axes>"
      ]
     },
     "execution_count": 9,
     "metadata": {},
     "output_type": "execute_result"
    },
    {
     "data": {
      "image/png": "[encoded data removed]",
      "text/plain": [
       "<Figure size 1500x1000 with 4 Axes>"
      ]
     },
     "metadata": {},
     "output_type": "display_data"
    },
    {
     "data": {
      "text/plain": [
       "<Figure size 1500x1000 with 0 Axes>"
      ]
     },
     "metadata": {},
     "output_type": "display_data"
    }
   ],
   "source": [
    "# Visualize data distribution using histograms\n",
    "data.hist(bins=20, figsize=(15, 10))\n",
    "plt.figure(figsize=(15, 10))"
   ]
  },
  {
   "cell_type": "code",
   "execution_count": 10,
   "id": "21ef9147",
   "metadata": {
    "execution": {
     "iopub.execute_input": "2025-02-02T09:01:05.919788Z",
     "iopub.status.busy": "2025-02-02T09:01:05.919364Z",
     "iopub.status.idle": "2025-02-02T09:01:06.713898Z",
     "shell.execute_reply": "2025-02-02T09:01:06.712718Z"
    },
    "papermill": {
     "duration": 0.80313,
     "end_time": "2025-02-02T09:01:06.715704",
     "exception": false,
     "start_time": "2025-02-02T09:01:05.912574",
     "status": "completed"
    },
    "tags": []
   },
   "outputs": [
    {
     "data": {
      "image/png": "[encoded data removed]",
      "text/plain": [
       "<Figure size 640x480 with 4 Axes>"
      ]
     },
     "metadata": {},
     "output_type": "display_data"
    }
   ],
   "source": [
    "# Create boxplots to compare feature distributions across classes\n",
    "plt.subplot(2,2,1)\n",
    "plt.title(\"Sepal Length\")\n",
    "sns.boxplot(y=\"sepal_length\", x=\"species\", data=data)\n",
    "plt.subplot(2,2,2)\n",
    "plt.title(\"Sepal Width\")\n",
    "sns.boxplot(y=\"sepal_width\", x=\"species\", data=data)\n",
    "plt.subplot(2,2,3)\n",
    "plt.title(\"Petal Length\")\n",
    "sns.boxplot(y=\"petal_length\", x=\"species\", data=data)\n",
    "plt.subplot(2,2,4)\n",
    "plt.title(\"Petal Width\")\n",
    "sns.boxplot(y=\"petal_width\", x=\"species\", data=data)\n",
    "plt.tight_layout()"
   ]
  },
  {
   "cell_type": "code",
   "execution_count": 11,
   "id": "9248d883",
   "metadata": {
    "execution": {
     "iopub.execute_input": "2025-02-02T09:01:06.731365Z",
     "iopub.status.busy": "2025-02-02T09:01:06.731018Z",
     "iopub.status.idle": "2025-02-02T09:01:06.738168Z",
     "shell.execute_reply": "2025-02-02T09:01:06.737160Z"
    },
    "papermill": {
     "duration": 0.017356,
     "end_time": "2025-02-02T09:01:06.739925",
     "exception": false,
     "start_time": "2025-02-02T09:01:06.722569",
     "status": "completed"
    },
    "tags": []
   },
   "outputs": [],
   "source": [
    "# Separate features (X) and target variable (y)\n",
    "X = data.drop(\"species\", axis=1)  # Features\n",
    "y = data[\"species\"]  # Target variable\n",
    "\n",
    "# Calculate the desired number of test samples (20)\n",
    "test_size = 20 / len(data)  # Calculate the proportion for 20 test samples\n",
    "\n",
    "# Split data into training and testing sets\n",
    "X_train, X_test, y_train, y_test = train_test_split(X, y, test_size=test_size, random_state=42)"
   ]
  },
  {
   "cell_type": "code",
   "execution_count": 12,
   "id": "cf3e74fb",
   "metadata": {
    "execution": {
     "iopub.execute_input": "2025-02-02T09:01:06.754167Z",
     "iopub.status.busy": "2025-02-02T09:01:06.753826Z",
     "iopub.status.idle": "2025-02-02T09:01:06.763719Z",
     "shell.execute_reply": "2025-02-02T09:01:06.762505Z"
    },
    "papermill": {
     "duration": 0.019016,
     "end_time": "2025-02-02T09:01:06.765475",
     "exception": false,
     "start_time": "2025-02-02T09:01:06.746459",
     "status": "completed"
    },
    "tags": []
   },
   "outputs": [
    {
     "name": "stdout",
     "output_type": "stream",
     "text": [
      "<class 'pandas.core.frame.DataFrame'>\n",
      "Index: 20 entries, 101 to 37\n",
      "Data columns (total 4 columns):\n",
      " #   Column        Non-Null Count  Dtype  \n",
      "---  ------        --------------  -----  \n",
      " 0   sepal_length  20 non-null     float64\n",
      " 1   sepal_width   20 non-null     float64\n",
      " 2   petal_length  20 non-null     float64\n",
      " 3   petal_width   20 non-null     float64\n",
      "dtypes: float64(4)\n",
      "memory usage: 800.0 bytes\n"
     ]
    }
   ],
   "source": [
    "X_test.info()"
   ]
  },
  {
   "cell_type": "code",
   "execution_count": 13,
   "id": "bf1a65d3",
   "metadata": {
    "execution": {
     "iopub.execute_input": "2025-02-02T09:01:06.780290Z",
     "iopub.status.busy": "2025-02-02T09:01:06.779933Z",
     "iopub.status.idle": "2025-02-02T09:01:06.784890Z",
     "shell.execute_reply": "2025-02-02T09:01:06.783858Z"
    },
    "papermill": {
     "duration": 0.014118,
     "end_time": "2025-02-02T09:01:06.786479",
     "exception": false,
     "start_time": "2025-02-02T09:01:06.772361",
     "status": "completed"
    },
    "tags": []
   },
   "outputs": [],
   "source": [
    "# Create pipelines for data preparation (scaling and imputation)\n",
    "numeric_features = X_train.columns\n",
    "scaler = StandardScaler()\n",
    "imputer = SimpleImputer(strategy=\"mean\")\n",
    "my_pipeline = Pipeline(steps=[(\"scaler\", scaler), (\"impute\", imputer)])\n",
    "full_pipeline = ColumnTransformer([(\"full\", my_pipeline, numeric_features)])"
   ]
  },
  {
   "cell_type": "code",
   "execution_count": 14,
   "id": "48b4679f",
   "metadata": {
    "execution": {
     "iopub.execute_input": "2025-02-02T09:01:06.801473Z",
     "iopub.status.busy": "2025-02-02T09:01:06.801149Z",
     "iopub.status.idle": "2025-02-02T09:01:06.814711Z",
     "shell.execute_reply": "2025-02-02T09:01:06.813660Z"
    },
    "papermill": {
     "duration": 0.02327,
     "end_time": "2025-02-02T09:01:06.816577",
     "exception": false,
     "start_time": "2025-02-02T09:01:06.793307",
     "status": "completed"
    },
    "tags": []
   },
   "outputs": [],
   "source": [
    "# Apply data preparation pipelines to training and testing sets\n",
    "X_train_prepared = full_pipeline.fit_transform(X_train)\n",
    "X_test_prepared = full_pipeline.transform(X_test)"
   ]
  },
  {
   "cell_type": "code",
   "execution_count": 15,
   "id": "04f98e58",
   "metadata": {
    "execution": {
     "iopub.execute_input": "2025-02-02T09:01:06.831177Z",
     "iopub.status.busy": "2025-02-02T09:01:06.830797Z",
     "iopub.status.idle": "2025-02-02T09:01:06.837640Z",
     "shell.execute_reply": "2025-02-02T09:01:06.836447Z"
    },
    "papermill": {
     "duration": 0.016224,
     "end_time": "2025-02-02T09:01:06.839531",
     "exception": false,
     "start_time": "2025-02-02T09:01:06.823307",
     "status": "completed"
    },
    "tags": []
   },
   "outputs": [
    {
     "name": "stdout",
     "output_type": "stream",
     "text": [
      "Class Distribution in Training Set:\n",
      "species\n",
      "virginica     46\n",
      "setosa        43\n",
      "versicolor    41\n",
      "Name: count, dtype: int64\n"
     ]
    }
   ],
   "source": [
    "print(\"Class Distribution in Training Set:\")\n",
    "print(y_train.value_counts())"
   ]
  },
  {
   "cell_type": "code",
   "execution_count": 16,
   "id": "da0f9264",
   "metadata": {
    "execution": {
     "iopub.execute_input": "2025-02-02T09:01:06.854339Z",
     "iopub.status.busy": "2025-02-02T09:01:06.854014Z",
     "iopub.status.idle": "2025-02-02T09:01:07.536964Z",
     "shell.execute_reply": "2025-02-02T09:01:07.535846Z"
    },
    "papermill": {
     "duration": 0.692283,
     "end_time": "2025-02-02T09:01:07.538679",
     "exception": false,
     "start_time": "2025-02-02T09:01:06.846396",
     "status": "completed"
    },
    "tags": []
   },
   "outputs": [
    {
     "name": "stdout",
     "output_type": "stream",
     "text": [
      "\n",
      "K-Nearest Neighbors (KNN) Mean: 0.9458 (Std: 0.0263)\n",
      "\n",
      "Random Forest Classifier Mean: 0.9460 (Std: 0.0260)\n",
      "\n",
      "Support Vector Machine (SVM) Mean: 0.9536 (Std: 0.0273)\n",
      "\n",
      "Logistic Regression Mean: 0.9460 (Std: 0.0137)\n"
     ]
    }
   ],
   "source": [
    "# Define various classification algorithms\n",
    "classifiers = {\n",
    "    \"K-Nearest Neighbors (KNN)\": KNeighborsClassifier(),\n",
    "    \"Random Forest Classifier\": RandomForestClassifier(),\n",
    "    \"Support Vector Machine (SVM)\": SVC(),\n",
    "    \"Logistic Regression\": LogisticRegression(),\n",
    "}\n",
    "\n",
    "# Perform cross-validation to estimate model performance\n",
    "results = {}\n",
    "for name, clf in classifiers.items():\n",
    "    scores = cross_val_score(clf, X_train_prepared, y_train, cv=4, scoring=\"accuracy\")\n",
    "    results[name] = scores.mean()\n",
    "    print(f\"\\n{name} Mean: {scores.mean():.4f} (Std: {scores.std():.4f})\")"
   ]
  },
  {
   "cell_type": "code",
   "execution_count": 17,
   "id": "f66f8db3",
   "metadata": {
    "execution": {
     "iopub.execute_input": "2025-02-02T09:01:07.554200Z",
     "iopub.status.busy": "2025-02-02T09:01:07.553822Z",
     "iopub.status.idle": "2025-02-02T09:01:07.563320Z",
     "shell.execute_reply": "2025-02-02T09:01:07.562083Z"
    },
    "papermill": {
     "duration": 0.019025,
     "end_time": "2025-02-02T09:01:07.564937",
     "exception": false,
     "start_time": "2025-02-02T09:01:07.545912",
     "status": "completed"
    },
    "tags": []
   },
   "outputs": [
    {
     "name": "stdout",
     "output_type": "stream",
     "text": [
      "Test Accuracy(Support Vector Machine (SVM)): 100.00%\n"
     ]
    }
   ],
   "source": [
    "# Select the best model based on cross-validation scores (e.g., highest mean accuracy)\n",
    "best_model_name = max(results, key=results.get) \n",
    "best_model = classifiers[best_model_name] \n",
    "\n",
    "# Train the best model on the entire training set\n",
    "best_model.fit(X_train_prepared, y_train)\n",
    "\n",
    "# Test set evaluation (important for real-world performance)\n",
    "y_pred_test = best_model.predict(X_test_prepared)\n",
    "test_accuracy = accuracy_score(y_test, y_pred_test)\n",
    "print(f\"Test Accuracy({best_model_name}): {test_accuracy:.2%}\")"
   ]
  },
  {
   "cell_type": "code",
   "execution_count": 18,
   "id": "2972f3c3",
   "metadata": {
    "execution": {
     "iopub.execute_input": "2025-02-02T09:01:07.579970Z",
     "iopub.status.busy": "2025-02-02T09:01:07.579594Z",
     "iopub.status.idle": "2025-02-02T09:01:07.591012Z",
     "shell.execute_reply": "2025-02-02T09:01:07.589977Z"
    },
    "papermill": {
     "duration": 0.020675,
     "end_time": "2025-02-02T09:01:07.592580",
     "exception": false,
     "start_time": "2025-02-02T09:01:07.571905",
     "status": "completed"
    },
    "tags": []
   },
   "outputs": [
    {
     "name": "stdout",
     "output_type": "stream",
     "text": [
      "Submission file 'Datalligence_submission.csv' created successfully!\n"
     ]
    }
   ],
   "source": [
    "example_ids = list(range(1, len(y_pred_test) + 1))\n",
    "submission_df = pd.DataFrame({'ID Column': example_ids, 'Prediction': y_pred_test})\n",
    "submission_df.to_csv(\"Datalligence_submission.csv\", index=False)\n",
    "\n",
    "print(\"Submission file 'Datalligence_submission.csv' created successfully!\")"
   ]
  }
 ],
 "metadata": {
  "kaggle": {
   "accelerator": "none",
   "dataSources": [
    {
     "databundleVersionId": 10877726,
     "sourceId": 91742,
     "sourceType": "competition"
    },
    {
     "datasetId": 17860,
     "sourceId": 23404,
     "sourceType": "datasetVersion"
    }
   ],
   "dockerImageVersionId": 30839,
   "isGpuEnabled": false,
   "isInternetEnabled": false,
   "language": "python",
   "sourceType": "notebook"
  },
  "kernelspec": {
   "display_name": "Python 3",
   "language": "python",
   "name": "python3"
  },
  "language_info": {
   "codemirror_mode": {
    "name": "ipython",
    "version": 3
   },
   "file_extension": ".py",
   "mimetype": "text/x-python",
   "name": "python",
   "nbconvert_exporter": "python",
   "pygments_lexer": "ipython3",
   "version": "3.10.12"
  },
  "papermill": {
   "default_parameters": {},
   "duration": 10.048654,
   "end_time": "2025-02-02T09:01:08.419593",
   "environment_variables": {},
   "exception": null,
   "input_path": "__notebook__.ipynb",
   "output_path": "__notebook__.ipynb",
   "parameters": {},
   "start_time": "2025-02-02T09:00:58.370939",
   "version": "2.6.0"
  }
 },
 "nbformat": 4,
 "nbformat_minor": 5
}
